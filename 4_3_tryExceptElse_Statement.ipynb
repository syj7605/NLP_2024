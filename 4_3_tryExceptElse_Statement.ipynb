{
  "nbformat": 4,
  "nbformat_minor": 0,
  "metadata": {
    "colab": {
      "provenance": [],
      "include_colab_link": true
    },
    "kernelspec": {
      "name": "python3",
      "display_name": "Python 3"
    },
    "language_info": {
      "name": "python"
    }
  },
  "cells": [
    {
      "cell_type": "markdown",
      "metadata": {
        "id": "view-in-github",
        "colab_type": "text"
      },
      "source": [
        "<a href=\"https://colab.research.google.com/github/syj7605/NLP_2024/blob/main/4_3_tryExceptElse_Statement.ipynb\" target=\"_parent\"><img src=\"https://colab.research.google.com/assets/colab-badge.svg\" alt=\"Open In Colab\"/></a>"
      ]
    },
    {
      "cell_type": "markdown",
      "source": [
        "## 🔨 try ~ except ~ else/finally\n",
        "---\n",
        "\n",
        "1️⃣ 프로그램을 작성 후 실행되는 동안 오류가 발생하면 프로그램은 더 이상 진행되지 않는다. 이 상황을 예외 (exeption) 상황이라고 한다.\n",
        "\n",
        "2️⃣ try: ~ except:\n",
        "  - Exeption 이 있더라도 프로그램 중단 없이 예외에 대하여 적절히 처리하여 프로그램을 진행시킬 수 있도록 하는 구문\n",
        "\n",
        "3️⃣ try: ~ except: ~ else:\n",
        "  - 어떤 로직을 수행했을 때 오류 상황이 아닌 경우에만 어떤 작업을 수행하는 코드를 작성해야 할 때\n",
        "  - 예외 Exception이 발행하면 else 부분은 수행되지 않음\n",
        "\n",
        "4️⃣ try: ~ except: ~ finally:\n",
        "  - 오류 발생과 상관없이 어떤 코드를 무조건 실행 시킬 때\n"
      ],
      "metadata": {
        "id": "3V3eF3-rqKDl"
      }
    },
    {
      "cell_type": "code",
      "source": [
        "try:\n",
        "    print('How are you?')\n",
        "    print(param)\n",
        "\n",
        "except:\n",
        "    print('Exception occurred')"
      ],
      "metadata": {
        "id": "1-rj5gv4MleD",
        "outputId": "0dc9c425-0afd-4b03-e441-0637e085b08b",
        "colab": {
          "base_uri": "https://localhost:8080/"
        }
      },
      "execution_count": 5,
      "outputs": [
        {
          "output_type": "stream",
          "name": "stdout",
          "text": [
            "How are you?\n",
            "Exception occurred\n"
          ]
        }
      ]
    },
    {
      "cell_type": "code",
      "execution_count": null,
      "metadata": {
        "colab": {
          "base_uri": "https://localhost:8080/"
        },
        "id": "XKm8hYRNqJE2",
        "outputId": "76fc2f84-6ffb-402b-8743-f74b1bec69ab"
      },
      "outputs": [
        {
          "output_type": "stream",
          "name": "stdout",
          "text": [
            "How are you?\n",
            "Exception occurred\n"
          ]
        }
      ],
      "source": [
        "# 위 2️⃣ 의 예시 (try: ~ except)\n",
        "\n",
        "try:\n",
        "  print ('How are you?')\n",
        "  print (param) #param 변수가 정의되지 않았으므로 NameError 예외가 발생. 예외가 발생하면 프로그램은 try 블록을 빠져나와 except 블록으로 이동.\n",
        "\n",
        "except:\n",
        "  print ('Exception occurred') #except 블록에서는 \"Exception occurred\"라는 메시지가 출력된다."
      ]
    },
    {
      "cell_type": "code",
      "source": [
        "try:\n",
        "  print ('How are you?')\n",
        "  print (param) #param 변수가 정의되지 않않았으므로 NameError 예외가 발생. 예외가 발생하면 프로그램은 try 블록을 빠져나와 except 블록으로 이동.\n",
        "\n",
        "except:\n",
        "    print('Exception occured') #except 블록에서는 \"Exception occurred\"라는 메시지가 출력된다."
      ],
      "metadata": {
        "id": "AAYpmpUXoyHK",
        "outputId": "7ae85ce7-99fc-4d39-ce86-7e5d78001627",
        "colab": {
          "base_uri": "https://localhost:8080/"
        }
      },
      "execution_count": null,
      "outputs": [
        {
          "output_type": "stream",
          "name": "stdout",
          "text": [
            "How are you?\n",
            "Exception occured\n"
          ]
        }
      ]
    },
    {
      "cell_type": "code",
      "source": [
        "# 위 2️⃣ 의 예시 (try: ~ except)\n",
        "\n",
        "try:\n",
        "  print ('How are you?')\n",
        "  # print (param) #해당 코드라인 비활성화시켜 param 변수 사용하여 출력 시도 안함.\n",
        "  #💊param 변수가 정의되지 않은 것이 없으면 NameError 예외가 발생 안함. 예외가 발생하지 않았음으로 프로그램은 try 블록을 빠져나오지 않고, except 블록으로 이동할 필요도 없음.\n",
        "\n",
        "except:\n",
        "  print ('Exception occurred') #except 블록에서는 \"Exception occurred\"라는 메시지가 출력된다."
      ],
      "metadata": {
        "id": "KNr3PPDkPVtK",
        "outputId": "a11b08af-08b8-4007-d539-d9cc13fdcdad",
        "colab": {
          "base_uri": "https://localhost:8080/"
        }
      },
      "execution_count": null,
      "outputs": [
        {
          "output_type": "stream",
          "name": "stdout",
          "text": [
            "How are you?\n"
          ]
        }
      ]
    },
    {
      "cell_type": "code",
      "source": [
        "try:\n",
        "    print('How are you?')\n",
        "    #print(param)\n",
        "\n",
        "except:\n",
        "    print('Exception occurred')"
      ],
      "metadata": {
        "id": "nqO3G_wcN6eK",
        "outputId": "c546db29-5f87-472c-fcf5-cad1d05dcef7",
        "colab": {
          "base_uri": "https://localhost:8080/"
        }
      },
      "execution_count": 6,
      "outputs": [
        {
          "output_type": "stream",
          "name": "stdout",
          "text": [
            "How are you?\n"
          ]
        }
      ]
    },
    {
      "cell_type": "code",
      "source": [
        "try:\n",
        "  print('How are you?')\n",
        "  #print(param) #해당 코드라인 비활성화시켜 param 변수 사용하여 출력 시도 안함.\n",
        "  #param 변수가 정의되지 않은 것이 없으면 NameError 예외가 발생 안함. 예외가 발생하지 않았음으로 프로그램은 try 블록을 빠져나오지 않고, except 블록으로 이동할 필요도 없음.\n",
        "\n",
        "\n",
        "except:\n",
        "  print('Exception occurred') #except 블록에서는 \"Exception occurred\"라는 메시지가 출력됨."
      ],
      "metadata": {
        "id": "ZRNNB2oXpIpw",
        "outputId": "72d9f1b2-9a2d-4350-f477-0294680c5094",
        "colab": {
          "base_uri": "https://localhost:8080/"
        }
      },
      "execution_count": null,
      "outputs": [
        {
          "output_type": "stream",
          "name": "stdout",
          "text": [
            "How are you?\n"
          ]
        }
      ]
    },
    {
      "cell_type": "code",
      "source": [
        "# 위 3️⃣  (try: ~ exception: ~ else: 에서 else 부분이 실행되지 않은 예시 )\n",
        "\n",
        "try:\n",
        "  print ('How are you?')\n",
        "  print (param) #param 변수를 사용하려고 시도. param 변수가 정의되지 않았으므로 NameError 예외가 발생합니다.\n",
        "\n",
        "#예외가 발생할 경우\n",
        "except:\n",
        "  print ('Exception occurred.') #예외가 발생하면 프로그램은 try 블록을 빠져나와 except 블록으로 이동. except 블록에서는 \"Exception occurred.\"라는 메시지가 출력.\n",
        "\n",
        "#예외가 발생하지 않았을 경우에만 실행됨. 이 경우 else 블록은 실행되지 않는다.\n",
        "else:\n",
        "  print ('Exception did not occur.')"
      ],
      "metadata": {
        "colab": {
          "base_uri": "https://localhost:8080/"
        },
        "id": "yI5O0MpmuDHE",
        "outputId": "863e4909-5f72-4a2c-bda7-d61ce66b13c8"
      },
      "execution_count": null,
      "outputs": [
        {
          "output_type": "stream",
          "name": "stdout",
          "text": [
            "How are you?\n",
            "Exception occurred.\n"
          ]
        }
      ]
    },
    {
      "cell_type": "code",
      "source": [
        "try:\n",
        "    print('How are you?')\n",
        "    #print(param)\n",
        "\n",
        "except:\n",
        "    print('Exception occurred.')\n",
        "\n",
        "else:\n",
        "    print('Exception did not occur.')"
      ],
      "metadata": {
        "id": "rD-IwOhoOcyC",
        "outputId": "8120aa60-53af-4e27-9a93-3f21fa19eeca",
        "colab": {
          "base_uri": "https://localhost:8080/"
        }
      },
      "execution_count": 9,
      "outputs": [
        {
          "output_type": "stream",
          "name": "stdout",
          "text": [
            "How are you?\n",
            "Exception did not occur.\n"
          ]
        }
      ]
    },
    {
      "cell_type": "code",
      "source": [
        "try:\n",
        "  print('How are you?')\n",
        "  print(param) #param 변수를 사용하려고 시도. param 변수가 정의되지 않았으므로, NameError 예외가 발생\n",
        "\n",
        "  #예외가 발생할 경우\n",
        "except:\n",
        "    print('Exception occurred.') #예외가 발생하면 프로그램은 try 블록을 빠빠져나와 except 블록으로 이동. except 블록에서는 \"Exception occurred\"라는 메시지가 출력,\n",
        "\n",
        "  #예외가 발생하지 않았을 경우에만 실행됨. 이 경우 else 블록은 실행되지 않음.\n",
        "else:\n",
        "    print('Exception did not occur.')\n"
      ],
      "metadata": {
        "id": "s9E4zogwpifD",
        "outputId": "80765541-1991-44c1-e952-025ee8e46195",
        "colab": {
          "base_uri": "https://localhost:8080/"
        }
      },
      "execution_count": null,
      "outputs": [
        {
          "output_type": "stream",
          "name": "stdout",
          "text": [
            "How are you?\n",
            "Exception occurred.\n"
          ]
        }
      ]
    },
    {
      "cell_type": "code",
      "source": [],
      "metadata": {
        "id": "JXw_O9ZwpiEw"
      },
      "execution_count": null,
      "outputs": []
    },
    {
      "cell_type": "code",
      "source": [
        "# 위 3️⃣  (try: ~ exception: ~ else: 에서 except 부분이 실행되지 않은 예시 )\n",
        "\n",
        "try:\n",
        "  print ('How are you?')\n",
        "# print (param) #해당 코드라인 비활성화시켜 param 변수 사용하여 출력 시도 안함.\n",
        "\n",
        "#예외가 발생할 경우\n",
        "except:\n",
        "  print ('Exception occurred.')\n",
        "\n",
        "#예외가 발생하지 않았을 경우에만 실행됨\n",
        "else:\n",
        "  print ('Exception did not occur.')"
      ],
      "metadata": {
        "colab": {
          "base_uri": "https://localhost:8080/"
        },
        "id": "y46HtrZSu_s2",
        "outputId": "c41091d1-bf24-40b0-eda2-e23d45e2d31e"
      },
      "execution_count": null,
      "outputs": [
        {
          "output_type": "stream",
          "name": "stdout",
          "text": [
            "How are you?\n",
            "Exception did not occur.\n"
          ]
        }
      ]
    },
    {
      "cell_type": "code",
      "source": [
        "try:\n",
        "  print('How are you?')\n",
        "  #print(param) #해당 코드라인 비활성화시켜 param 변수 사용하여 출력 시도 안함.\n",
        "\n",
        "  #예외가 발생할 경우\n",
        "except:\n",
        "  print('Exception occured.')\n",
        "\n",
        "  #예외가 발생하지 않았을 경우에만 실행됨\n",
        "else:\n",
        "    print('Exception did not occur.')"
      ],
      "metadata": {
        "id": "R1lOnvfVqEHb",
        "outputId": "64dadbe7-017f-4077-b451-bab126b257de",
        "colab": {
          "base_uri": "https://localhost:8080/"
        }
      },
      "execution_count": null,
      "outputs": [
        {
          "output_type": "stream",
          "name": "stdout",
          "text": [
            "How are you?\n",
            "Exception did not occur.\n"
          ]
        }
      ]
    },
    {
      "cell_type": "code",
      "source": [
        "# 위 4️⃣  (try: ~ exception: ~ finally: exeption 예외 발생의 유무에 상관없이 무조건 실행되는 finally 부분 )\n",
        "\n",
        "try:\n",
        "  print ('How are you?')\n",
        "  print (param)\n",
        "\n",
        "except:\n",
        "  print ('Exception occurred.')\n",
        "\n",
        "finally:\n",
        "  print ('This code should be running.')"
      ],
      "metadata": {
        "colab": {
          "base_uri": "https://localhost:8080/"
        },
        "id": "k8-JM-FevYkh",
        "outputId": "86b59e71-f367-4175-b008-05f8555ae772"
      },
      "execution_count": null,
      "outputs": [
        {
          "output_type": "stream",
          "name": "stdout",
          "text": [
            "How are you?\n",
            "Exception occurred.\n",
            "This code should be running.\n"
          ]
        }
      ]
    },
    {
      "cell_type": "code",
      "source": [
        "try:\n",
        "    print('How are you?')\n",
        "    #print(variable)\n",
        "\n",
        "except:\n",
        "    print('Exception occurred.')\n",
        "\n",
        "finally:\n",
        "    print('This code should be running.')"
      ],
      "metadata": {
        "id": "sHIdLzMoPMmK",
        "outputId": "84de1f4f-a98d-41db-e705-41d1693a6a73",
        "colab": {
          "base_uri": "https://localhost:8080/"
        }
      },
      "execution_count": 12,
      "outputs": [
        {
          "output_type": "stream",
          "name": "stdout",
          "text": [
            "How are you?\n",
            "This code should be running.\n"
          ]
        }
      ]
    },
    {
      "cell_type": "code",
      "source": [
        "try:\n",
        "  print('How are you?')\n",
        "  print(param)\n",
        "\n",
        "except:\n",
        "  print('Exception occurred.')\n",
        "\n",
        "finally:\n",
        "  print('This code should be running.')"
      ],
      "metadata": {
        "id": "tE4P9oSFqYCZ",
        "outputId": "1e0d44cd-42ac-410a-893a-7be4bc03f1da",
        "colab": {
          "base_uri": "https://localhost:8080/"
        }
      },
      "execution_count": null,
      "outputs": [
        {
          "output_type": "stream",
          "name": "stdout",
          "text": [
            "How are you?\n",
            "Exception occurred.\n",
            "This code should be running.\n"
          ]
        }
      ]
    },
    {
      "cell_type": "code",
      "source": [
        "# 위 4️⃣  (try: ~ exception: ~ finally: exeption 예외 발생의 유무에 상관없이 무조건 실행되는 finally 부분 )\n",
        "\n",
        "try:\n",
        "  print ('How are you?')\n",
        "# print (param)\n",
        "\n",
        "except:\n",
        "  print ('Exception occurred.')\n",
        "\n",
        "finally:\n",
        "  print ('This code should be running.')"
      ],
      "metadata": {
        "id": "UjK2z3ctQd3G",
        "outputId": "3daa5f6f-b7a7-4731-9045-da1166ed4aa0",
        "colab": {
          "base_uri": "https://localhost:8080/"
        }
      },
      "execution_count": null,
      "outputs": [
        {
          "output_type": "stream",
          "name": "stdout",
          "text": [
            "How are you?\n",
            "This code should be running.\n"
          ]
        }
      ]
    },
    {
      "cell_type": "code",
      "source": [
        "try:\n",
        "  print('How are you?')\n",
        "  #print(param)\n",
        "\n",
        "except:\n",
        "  print('Exception occurred.')\n",
        "\n",
        "finally:\n",
        "  print('This code should be running.')"
      ],
      "metadata": {
        "id": "ECADWYy-qiRR",
        "outputId": "5c6e0ffe-2ab7-40c9-d97d-e212e391032a",
        "colab": {
          "base_uri": "https://localhost:8080/"
        }
      },
      "execution_count": null,
      "outputs": [
        {
          "output_type": "stream",
          "name": "stdout",
          "text": [
            "How are you?\n",
            "This code should be running.\n"
          ]
        }
      ]
    },
    {
      "cell_type": "code",
      "source": [],
      "metadata": {
        "id": "D-EE1bQgqq6c"
      },
      "execution_count": null,
      "outputs": []
    }
  ]
}